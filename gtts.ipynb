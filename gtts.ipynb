{
 "cells": [
  {
   "cell_type": "code",
   "execution_count": 6,
   "id": "ad9659aa",
   "metadata": {},
   "outputs": [
    {
     "name": "stdout",
     "output_type": "stream",
     "text": [
      "హాయ్ మీరు ఏమి చేస్తున్నారు. మీరు పోకర్ గేమ్ ఆడతారా\n",
      "te\n"
     ]
    }
   ],
   "source": [
    "### Google Text to speech\n",
    "\n",
    "from gtts import gTTS\n",
    "import os\n",
    "\n",
    "def text_to_speech(text,language='en'):\n",
    "    tts = gTTS(text=text, lang=language, slow=False)\n",
    "    tts.save(\"output.mp3\")\n",
    "    os.system(\"start output.mp3\")\n",
    "input_text=input()\n",
    "lang=input()\n",
    "text_to_speech(input_text,lang)"
   ]
  }
 ],
 "metadata": {
  "kernelspec": {
   "display_name": "Python 3 (ipykernel)",
   "language": "python",
   "name": "python3"
  },
  "language_info": {
   "codemirror_mode": {
    "name": "ipython",
    "version": 3
   },
   "file_extension": ".py",
   "mimetype": "text/x-python",
   "name": "python",
   "nbconvert_exporter": "python",
   "pygments_lexer": "ipython3",
   "version": "3.11.5"
  }
 },
 "nbformat": 4,
 "nbformat_minor": 5
}
